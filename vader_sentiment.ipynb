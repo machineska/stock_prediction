{
 "cells": [
  {
   "cell_type": "code",
   "execution_count": 4,
   "metadata": {},
   "outputs": [],
   "source": [
    "from vaderSentiment.vaderSentiment import SentimentIntensityAnalyzer"
   ]
  },
  {
   "cell_type": "code",
   "execution_count": 8,
   "metadata": {},
   "outputs": [],
   "source": [
    "analyser = SentimentIntensityAnalyzer()"
   ]
  },
  {
   "cell_type": "code",
   "execution_count": 9,
   "metadata": {},
   "outputs": [],
   "source": [
    "def sentiment_analyzer_scores(sentence):\n",
    "    score = analyser.polarity_scores(sentence)\n",
    "    print(\"{:-<40} {}\".format(sentence, str(score)))"
   ]
  },
  {
   "cell_type": "code",
   "execution_count": 10,
   "metadata": {},
   "outputs": [
    {
     "name": "stdout",
     "output_type": "stream",
     "text": [
      "The phone is super cool.---------------- {'neg': 0.0, 'neu': 0.326, 'pos': 0.674, 'compound': 0.7351}\n"
     ]
    }
   ],
   "source": [
    "sentiment_analyzer_scores(\"The phone is super cool.\")"
   ]
  },
  {
   "cell_type": "code",
   "execution_count": 11,
   "metadata": {},
   "outputs": [
    {
     "name": "stdout",
     "output_type": "stream",
     "text": [
      "The food here is good------------------- {'neg': 0.0, 'neu': 0.58, 'pos': 0.42, 'compound': 0.4404}\n"
     ]
    }
   ],
   "source": [
    "# Baseline sentence\n",
    "sentiment_analyzer_scores('The food here is good')"
   ]
  },
  {
   "cell_type": "code",
   "execution_count": 12,
   "metadata": {},
   "outputs": [
    {
     "name": "stdout",
     "output_type": "stream",
     "text": [
      "The food here is good!------------------ {'neg': 0.0, 'neu': 0.556, 'pos': 0.444, 'compound': 0.4926}\n",
      "None\n",
      "The food here is good!!----------------- {'neg': 0.0, 'neu': 0.534, 'pos': 0.466, 'compound': 0.5399}\n",
      "None\n",
      "The food here is good!!!!--------------- {'neg': 0.0, 'neu': 1.0, 'pos': 0.0, 'compound': 0.0}\n",
      "None\n"
     ]
    }
   ],
   "source": [
    "# Punctuation\n",
    "print(sentiment_analyzer_scores('The food here is good!'))\n",
    "print(sentiment_analyzer_scores('The food here is good!!'))\n",
    "print(sentiment_analyzer_scores('The food here is good!!!!'))"
   ]
  },
  {
   "cell_type": "code",
   "execution_count": 14,
   "metadata": {},
   "outputs": [
    {
     "name": "stdout",
     "output_type": "stream",
     "text": [
      "The food here is great!----------------- {'neg': 0.0, 'neu': 0.477, 'pos': 0.523, 'compound': 0.6588}\n"
     ]
    }
   ],
   "source": [
    "# Baseline sentence\n",
    "sentiment_analyzer_scores('The food here is great!')"
   ]
  },
  {
   "cell_type": "code",
   "execution_count": 15,
   "metadata": {},
   "outputs": [
    {
     "name": "stdout",
     "output_type": "stream",
     "text": [
      "The food here is GREAT!----------------- {'neg': 0.0, 'neu': 0.438, 'pos': 0.562, 'compound': 0.729}\n"
     ]
    }
   ],
   "source": [
    "# Uppercase\n",
    "sentiment_analyzer_scores('The food here is GREAT!')"
   ]
  },
  {
   "cell_type": "code",
   "execution_count": 17,
   "metadata": {},
   "outputs": [
    {
     "name": "stdout",
     "output_type": "stream",
     "text": [
      "The service here is good---------------- {'neg': 0.0, 'neu': 0.58, 'pos': 0.42, 'compound': 0.4404}\n"
     ]
    }
   ],
   "source": [
    "# Baseline sentence\n",
    "sentiment_analyzer_scores('The service here is good')"
   ]
  },
  {
   "cell_type": "code",
   "execution_count": 18,
   "metadata": {},
   "outputs": [
    {
     "name": "stdout",
     "output_type": "stream",
     "text": [
      "The service here is extremely good------ {'neg': 0.0, 'neu': 0.61, 'pos': 0.39, 'compound': 0.4927}\n",
      "None\n",
      "The service here is marginally good----- {'neg': 0.0, 'neu': 0.657, 'pos': 0.343, 'compound': 0.3832}\n",
      "None\n"
     ]
    }
   ],
   "source": [
    "# Degree Modifiers\n",
    "print(sentiment_analyzer_scores('The service here is extremely good'))\n",
    "print(sentiment_analyzer_scores('The service here is marginally good'))"
   ]
  },
  {
   "cell_type": "code",
   "execution_count": 20,
   "metadata": {},
   "outputs": [
    {
     "name": "stdout",
     "output_type": "stream",
     "text": [
      "The food here is great, but the service is horrible {'neg': 0.31, 'neu': 0.523, 'pos': 0.167, 'compound': -0.4939}\n"
     ]
    }
   ],
   "source": [
    "# Conjunction\n",
    "sentiment_analyzer_scores('The food here is great, but the service is horrible')"
   ]
  },
  {
   "cell_type": "code",
   "execution_count": 21,
   "metadata": {},
   "outputs": [
    {
     "name": "stdout",
     "output_type": "stream",
     "text": [
      "I am 😄 today---------------------------- {'neg': 0.0, 'neu': 0.476, 'pos': 0.524, 'compound': 0.6705}\n",
      "None\n",
      "😊--------------------------------------- {'neg': 0.0, 'neu': 0.333, 'pos': 0.667, 'compound': 0.7184}\n",
      "None\n",
      "😥--------------------------------------- {'neg': 0.275, 'neu': 0.268, 'pos': 0.456, 'compound': 0.3291}\n",
      "None\n",
      "☹️-------------------------------------- {'neg': 0.706, 'neu': 0.294, 'pos': 0.0, 'compound': -0.34}\n",
      "None\n"
     ]
    }
   ],
   "source": [
    "print(sentiment_analyzer_scores('I am 😄 today'))\n",
    "print(sentiment_analyzer_scores('😊'))\n",
    "print(sentiment_analyzer_scores('😥'))\n",
    "print(sentiment_analyzer_scores('☹️'))"
   ]
  },
  {
   "cell_type": "code",
   "execution_count": 22,
   "metadata": {},
   "outputs": [
    {
     "name": "stdout",
     "output_type": "stream",
     "text": [
      "Today SUX!------------------------------ {'neg': 0.779, 'neu': 0.221, 'pos': 0.0, 'compound': -0.5461}\n",
      "None\n",
      "Today only kinda sux! But I'll get by, lol {'neg': 0.127, 'neu': 0.556, 'pos': 0.317, 'compound': 0.5249}\n",
      "None\n"
     ]
    }
   ],
   "source": [
    "print(sentiment_analyzer_scores(\"Today SUX!\"))\n",
    "print(sentiment_analyzer_scores(\"Today only kinda sux! But I'll get by, lol\"))"
   ]
  },
  {
   "cell_type": "code",
   "execution_count": 23,
   "metadata": {},
   "outputs": [
    {
     "name": "stdout",
     "output_type": "stream",
     "text": [
      "Make sure you :) or :D today!----------- {'neg': 0.0, 'neu': 0.294, 'pos': 0.706, 'compound': 0.8633}\n",
      "None\n"
     ]
    }
   ],
   "source": [
    "print(sentiment_analyzer_scores(\"Make sure you :) or :D today!\"))"
   ]
  },
  {
   "cell_type": "code",
   "execution_count": null,
   "metadata": {},
   "outputs": [],
   "source": []
  }
 ],
 "metadata": {
  "kernelspec": {
   "display_name": "Python 3",
   "language": "python",
   "name": "python3"
  },
  "language_info": {
   "codemirror_mode": {
    "name": "ipython",
    "version": 3
   },
   "file_extension": ".py",
   "mimetype": "text/x-python",
   "name": "python",
   "nbconvert_exporter": "python",
   "pygments_lexer": "ipython3",
   "version": "3.6.8"
  }
 },
 "nbformat": 4,
 "nbformat_minor": 4
}
